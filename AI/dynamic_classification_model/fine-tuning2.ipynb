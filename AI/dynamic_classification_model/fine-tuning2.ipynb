{
 "cells": [
  {
   "cell_type": "code",
   "execution_count": null,
   "metadata": {
    "colab": {
     "base_uri": "https://localhost:8080/",
     "height": 35
    },
    "executionInfo": {
     "elapsed": 49,
     "status": "ok",
     "timestamp": 1746530614636,
     "user": {
      "displayName": "YEHYANG KIM",
      "userId": "09662870531590045491"
     },
     "user_tz": -540
    },
    "id": "I2WSa_Q0EMky",
    "outputId": "eea9841a-f52f-4883-bc57-c4d600a656cd"
   },
   "outputs": [],
   "source": [
    "pwd"
   ]
  },
  {
   "cell_type": "code",
   "execution_count": null,
   "metadata": {
    "colab": {
     "base_uri": "https://localhost:8080/"
    },
    "executionInfo": {
     "elapsed": 43,
     "status": "ok",
     "timestamp": 1746530615419,
     "user": {
      "displayName": "YEHYANG KIM",
      "userId": "09662870531590045491"
     },
     "user_tz": -540
    },
    "id": "EOPNFMAwEdEJ",
    "outputId": "bde5949c-2da0-41dd-8fe6-7bfd32a91cb9"
   },
   "outputs": [],
   "source": [
    "%cd drive/MyDrive/X3D"
   ]
  },
  {
   "cell_type": "code",
   "execution_count": null,
   "metadata": {
    "colab": {
     "base_uri": "https://localhost:8080/"
    },
    "executionInfo": {
     "elapsed": 6,
     "status": "ok",
     "timestamp": 1746517728894,
     "user": {
      "displayName": "YEHYANG KIM",
      "userId": "09662870531590045491"
     },
     "user_tz": -540
    },
    "id": "262F66MrJgKg",
    "outputId": "6ee5d38e-c7cc-420c-efc9-20314ebbf0ca"
   },
   "outputs": [],
   "source": [
    "%cd fine-tune"
   ]
  },
  {
   "cell_type": "code",
   "execution_count": null,
   "metadata": {
    "colab": {
     "base_uri": "https://localhost:8080/"
    },
    "executionInfo": {
     "elapsed": 1613,
     "status": "ok",
     "timestamp": 1746517731193,
     "user": {
      "displayName": "YEHYANG KIM",
      "userId": "09662870531590045491"
     },
     "user_tz": -540
    },
    "id": "fjus_lB6JgG-",
    "outputId": "b8a438f3-e3de-432f-e429-fe19ca67f3ef"
   },
   "outputs": [],
   "source": [
    "!pip install --upgrade pip"
   ]
  },
  {
   "cell_type": "code",
   "execution_count": null,
   "metadata": {
    "colab": {
     "base_uri": "https://localhost:8080/"
    },
    "executionInfo": {
     "elapsed": 73665,
     "status": "ok",
     "timestamp": 1746514627234,
     "user": {
      "displayName": "YEHYANG KIM",
      "userId": "09662870531590045491"
     },
     "user_tz": -540
    },
    "id": "Iemp-rPWJgER",
    "outputId": "69c38038-e700-4230-ee3a-9d6e81146a03"
   },
   "outputs": [],
   "source": [
    "!pip install -r requirements.txt"
   ]
  },
  {
   "cell_type": "code",
   "execution_count": null,
   "metadata": {
    "colab": {
     "base_uri": "https://localhost:8080/",
     "height": 1000
    },
    "executionInfo": {
     "elapsed": 140886,
     "status": "ok",
     "timestamp": 1746514773423,
     "user": {
      "displayName": "YEHYANG KIM",
      "userId": "09662870531590045491"
     },
     "user_tz": -540
    },
    "id": "otVwsSyVLZwZ",
    "outputId": "2050a9f0-ba23-482e-e10e-007adfd07790"
   },
   "outputs": [],
   "source": [
    "# 1. 기존 torchvision 제거\n",
    "!pip uninstall -y torchvision\n",
    "\n",
    "# 2. PyTorch와 같은 CUDA 11.8 버전용 torchvision 설치\n",
    "!pip install --upgrade --force-reinstall torchvision --index-url https://download.pytorch.org/whl/cu118"
   ]
  },
  {
   "cell_type": "code",
   "execution_count": null,
   "metadata": {
    "colab": {
     "base_uri": "https://localhost:8080/"
    },
    "id": "zAeRdRUiJrVV",
    "outputId": "c3b1d4c2-ad05-4c3a-aee1-ba50d27e17e5"
   },
   "outputs": [],
   "source": [
    "# 파인튜닝\n",
    "!python -u src/train.py"
   ]
  },
  {
   "cell_type": "code",
   "execution_count": null,
   "metadata": {},
   "outputs": [],
   "source": [
    "# 에폭 전체 다 못 돌고 끝났다면, 따로 test 성능 측정\n",
    "!python src/eval.py"
   ]
  },
  {
   "cell_type": "markdown",
   "metadata": {},
   "source": [
    "### 추가로 성능 검증"
   ]
  },
  {
   "cell_type": "code",
   "execution_count": null,
   "metadata": {},
   "outputs": [],
   "source": [
    "# train과 test 중복 확인\n",
    "!comm -12 <(ls ../dataset_encoded/train/swoon | sort) <(ls ../dataset_encoded/test/swoon | sort)"
   ]
  },
  {
   "cell_type": "code",
   "execution_count": null,
   "metadata": {},
   "outputs": [],
   "source": [
    "# 클래스 불균형 확인\n",
    "import os\n",
    "from collections import Counter\n",
    "\n",
    "test_root = \"../dataset_encoded/test\"\n",
    "class_counts = {cls: len(os.listdir(os.path.join(test_root, cls)))\n",
    "                for cls in sorted(os.listdir(test_root))}\n",
    "print(class_counts)"
   ]
  },
  {
   "cell_type": "code",
   "execution_count": null,
   "metadata": {},
   "outputs": [],
   "source": [
    "import os\n",
    "import yaml\n",
    "import torch\n",
    "import torch.nn.functional as F\n",
    "from tqdm import tqdm\n",
    "from collections import defaultdict\n",
    "\n",
    "from sklearn.metrics import (\n",
    "    confusion_matrix,\n",
    "    classification_report,\n",
    "    ConfusionMatrixDisplay,\n",
    ")\n",
    "\n",
    "import matplotlib.pyplot as plt\n",
    "from pytorch_lightning import seed_everything\n",
    "\n",
    "from src.data_module import VideoDataModule\n",
    "from src.model_module import X3DFineTuner\n",
    "\n",
    "# 1. config 로드\n",
    "with open(\"/content/drive/MyDrive/X3D/fine-tune/configs/default.yaml\", \"r\") as f:\n",
    "    CFG = yaml.safe_load(f)\n",
    "\n",
    "seed_everything(42)\n",
    "device = torch.device(\"cuda\" if torch.cuda.is_available() else \"cpu\")\n",
    "\n",
    "# 2. 데이터 및 모델\n",
    "dm = VideoDataModule(CFG)\n",
    "dm.setup(\"test\")\n",
    "test_loader = dm.test_dataloader()\n",
    "\n",
    "model = X3DFineTuner.load_from_checkpoint(\n",
    "    checkpoint_path=\"/content/drive/MyDrive/X3D/fine-tune/checkpoints/x3d-epoch=26-val_loss=0.02.ckpt\",\n",
    "    cfg=CFG,\n",
    ")\n",
    "model.eval().to(device)\n",
    "\n",
    "# 3. 클래스 추출\n",
    "class_names = sorted(os.listdir(os.path.join(CFG[\"data_path\"], \"test\")))\n",
    "num_classes = len(class_names)\n",
    "print(f\"클래스 ({num_classes}):\", class_names)\n",
    "\n",
    "# 4. 예측 및 정답 수집\n",
    "all_preds = []\n",
    "all_labels = []\n",
    "\n",
    "with torch.no_grad():\n",
    "    for batch in tqdm(test_loader, desc=\"Evaluating\"):\n",
    "        video = batch[\"video\"].to(device)\n",
    "        label = batch[\"label\"].to(device)\n",
    "\n",
    "        logits = model(video)\n",
    "        preds = torch.argmax(F.softmax(logits, dim=1), dim=1)\n",
    "\n",
    "        all_preds.extend(preds.cpu().tolist())\n",
    "        all_labels.extend(label.cpu().tolist())\n",
    "\n",
    "# 5. 혼동행렬 출력\n",
    "cm = confusion_matrix(all_labels, all_preds)\n",
    "disp = ConfusionMatrixDisplay(confusion_matrix=cm, display_labels=class_names)\n",
    "\n",
    "fig, ax = plt.subplots(figsize=(8, 6))\n",
    "disp.plot(ax=ax, cmap=\"Blues\", xticks_rotation=45)\n",
    "plt.title(\"Confusion Matrix (Test Set)\")\n",
    "plt.grid(False)\n",
    "plt.show()\n",
    "\n",
    "# 6. classification report (macro/micro/weighted 포함)\n",
    "report = classification_report(\n",
    "    all_labels, all_preds, target_names=class_names, digits=4\n",
    ")\n",
    "print(\"\\nClassification Report:\")\n",
    "print(report)"
   ]
  }
 ],
 "metadata": {
  "accelerator": "GPU",
  "colab": {
   "authorship_tag": "ABX9TyMIQR5yGjFYerYo3RsDDDnz",
   "gpuType": "A100",
   "machine_shape": "hm",
   "mount_file_id": "1Z4JW5iwyxQulvEfrlo1PX_nBnIt4Uudd",
   "provenance": []
  },
  "kernelspec": {
   "display_name": "base",
   "language": "python",
   "name": "python3"
  },
  "language_info": {
   "codemirror_mode": {
    "name": "ipython",
    "version": 3
   },
   "file_extension": ".py",
   "mimetype": "text/x-python",
   "name": "python",
   "nbconvert_exporter": "python",
   "pygments_lexer": "ipython3",
   "version": "3.9.19"
  }
 },
 "nbformat": 4,
 "nbformat_minor": 0
}
