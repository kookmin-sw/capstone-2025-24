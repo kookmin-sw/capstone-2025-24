{
 "cells": [
  {
   "cell_type": "code",
   "execution_count": null,
   "metadata": {
    "colab": {
     "base_uri": "https://localhost:8080/"
    },
    "executionInfo": {
     "elapsed": 27756,
     "status": "ok",
     "timestamp": 1742534834446,
     "user": {
      "displayName": "김예향",
      "userId": "01564514346289315086"
     },
     "user_tz": -540
    },
    "id": "ihj09xyyb0C2",
    "outputId": "c6d208a7-53b8-48ba-9123-2880a77de7fa"
   },
   "outputs": [],
   "source": [
    "from google.colab import drive\n",
    "drive.mount('/content/drive')"
   ]
  },
  {
   "cell_type": "code",
   "execution_count": null,
   "metadata": {
    "colab": {
     "base_uri": "https://localhost:8080/"
    },
    "executionInfo": {
     "elapsed": 5,
     "status": "ok",
     "timestamp": 1742010143639,
     "user": {
      "displayName": "김예향",
      "userId": "01564514346289315086"
     },
     "user_tz": -540
    },
    "id": "OQnBdpM6a5n-",
    "outputId": "566c3afe-fd63-42ee-f180-ff7df29f0652"
   },
   "outputs": [],
   "source": [
    "%cd drive/MyDrive/YOLO"
   ]
  },
  {
   "cell_type": "code",
   "execution_count": 1,
   "metadata": {
    "colab": {
     "base_uri": "https://localhost:8080/"
    },
    "collapsed": true,
    "executionInfo": {
     "elapsed": 2808,
     "status": "ok",
     "timestamp": 1742007681595,
     "user": {
      "displayName": "김예향",
      "userId": "01564514346289315086"
     },
     "user_tz": -540
    },
    "id": "7ZqSsM17a5n_",
    "outputId": "6862be39-cf04-4059-90df-2730a8f6170c"
   },
   "outputs": [
    {
     "name": "stdout",
     "output_type": "stream",
     "text": [
      "Collecting ultralytics\n",
      "  Downloading ultralytics-8.3.136-py3-none-any.whl (1.0 MB)\n",
      "     ---------------------------------------- 0.0/1.0 MB ? eta -:--:--\n",
      "     ---------------------------------------- 0.0/1.0 MB ? eta -:--:--\n",
      "     ---------------------------------------- 0.0/1.0 MB ? eta -:--:--\n",
      "     - -------------------------------------- 0.0/1.0 MB 217.9 kB/s eta 0:00:05\n",
      "     - -------------------------------------- 0.0/1.0 MB 217.9 kB/s eta 0:00:05\n",
      "     --- ------------------------------------ 0.1/1.0 MB 435.7 kB/s eta 0:00:03\n",
      "     ---------- ----------------------------- 0.3/1.0 MB 1.0 MB/s eta 0:00:01\n",
      "     ---------------------- ----------------- 0.6/1.0 MB 1.9 MB/s eta 0:00:01\n",
      "     ------------------------------------ --- 0.9/1.0 MB 2.8 MB/s eta 0:00:01\n",
      "     ---------------------------------------- 1.0/1.0 MB 2.8 MB/s eta 0:00:00\n",
      "Requirement already satisfied: matplotlib>=3.3.0 in c:\\users\\nunaj\\anaconda3\\lib\\site-packages (from ultralytics) (3.7.1)\n",
      "Requirement already satisfied: requests>=2.23.0 in c:\\users\\nunaj\\anaconda3\\lib\\site-packages (from ultralytics) (2.28.1)\n",
      "Requirement already satisfied: numpy>=1.23.0 in c:\\users\\nunaj\\anaconda3\\lib\\site-packages (from ultralytics) (1.23.5)\n",
      "Requirement already satisfied: scipy>=1.4.1 in c:\\users\\nunaj\\anaconda3\\lib\\site-packages (from ultralytics) (1.10.0)\n",
      "Requirement already satisfied: torch!=2.4.0,>=1.8.0 in c:\\users\\nunaj\\anaconda3\\lib\\site-packages (from ultralytics) (1.13.1)\n",
      "Requirement already satisfied: torchvision>=0.9.0 in c:\\users\\nunaj\\anaconda3\\lib\\site-packages (from ultralytics) (0.14.1)\n",
      "Collecting ultralytics-thop>=2.0.0\n",
      "  Downloading ultralytics_thop-2.0.14-py3-none-any.whl (26 kB)\n",
      "Requirement already satisfied: py-cpuinfo in c:\\users\\nunaj\\anaconda3\\lib\\site-packages (from ultralytics) (9.0.0)\n",
      "Requirement already satisfied: pandas>=1.1.4 in c:\\users\\nunaj\\anaconda3\\lib\\site-packages (from ultralytics) (1.4.4)\n",
      "Requirement already satisfied: psutil in c:\\users\\nunaj\\anaconda3\\lib\\site-packages (from ultralytics) (5.9.0)\n",
      "Requirement already satisfied: opencv-python>=4.6.0 in c:\\users\\nunaj\\anaconda3\\lib\\site-packages (from ultralytics) (4.10.0)\n",
      "Requirement already satisfied: pyyaml>=5.3.1 in c:\\users\\nunaj\\anaconda3\\lib\\site-packages (from ultralytics) (6.0)\n",
      "Requirement already satisfied: pillow>=7.1.2 in c:\\users\\nunaj\\anaconda3\\lib\\site-packages (from ultralytics) (10.4.0)\n",
      "Requirement already satisfied: tqdm>=4.64.0 in c:\\users\\nunaj\\anaconda3\\lib\\site-packages (from ultralytics) (4.65.0)\n",
      "Requirement already satisfied: cycler>=0.10 in c:\\users\\nunaj\\anaconda3\\lib\\site-packages (from matplotlib>=3.3.0->ultralytics) (0.11.0)\n",
      "Requirement already satisfied: importlib-resources>=3.2.0 in c:\\users\\nunaj\\anaconda3\\lib\\site-packages (from matplotlib>=3.3.0->ultralytics) (5.2.0)\n",
      "Requirement already satisfied: contourpy>=1.0.1 in c:\\users\\nunaj\\anaconda3\\lib\\site-packages (from matplotlib>=3.3.0->ultralytics) (1.0.5)\n",
      "Requirement already satisfied: python-dateutil>=2.7 in c:\\users\\nunaj\\anaconda3\\lib\\site-packages (from matplotlib>=3.3.0->ultralytics) (2.8.2)\n",
      "Requirement already satisfied: pyparsing>=2.3.1 in c:\\users\\nunaj\\anaconda3\\lib\\site-packages (from matplotlib>=3.3.0->ultralytics) (3.0.9)\n",
      "Requirement already satisfied: kiwisolver>=1.0.1 in c:\\users\\nunaj\\anaconda3\\lib\\site-packages (from matplotlib>=3.3.0->ultralytics) (1.4.4)\n",
      "Requirement already satisfied: fonttools>=4.22.0 in c:\\users\\nunaj\\anaconda3\\lib\\site-packages (from matplotlib>=3.3.0->ultralytics) (4.25.0)\n",
      "Requirement already satisfied: packaging>=20.0 in c:\\users\\nunaj\\anaconda3\\lib\\site-packages (from matplotlib>=3.3.0->ultralytics) (23.0)\n",
      "Requirement already satisfied: pytz>=2020.1 in c:\\users\\nunaj\\anaconda3\\lib\\site-packages (from pandas>=1.1.4->ultralytics) (2022.7)\n",
      "Requirement already satisfied: urllib3<1.27,>=1.21.1 in c:\\users\\nunaj\\anaconda3\\lib\\site-packages (from requests>=2.23.0->ultralytics) (1.26.14)\n",
      "Requirement already satisfied: charset-normalizer<3,>=2 in c:\\users\\nunaj\\anaconda3\\lib\\site-packages (from requests>=2.23.0->ultralytics) (2.0.4)\n",
      "Requirement already satisfied: certifi>=2017.4.17 in c:\\users\\nunaj\\anaconda3\\lib\\site-packages (from requests>=2.23.0->ultralytics) (2024.7.4)\n",
      "Requirement already satisfied: idna<4,>=2.5 in c:\\users\\nunaj\\anaconda3\\lib\\site-packages (from requests>=2.23.0->ultralytics) (3.4)\n",
      "Requirement already satisfied: typing_extensions in c:\\users\\nunaj\\anaconda3\\lib\\site-packages (from torch!=2.4.0,>=1.8.0->ultralytics) (4.4.0)\n",
      "Requirement already satisfied: colorama in c:\\users\\nunaj\\anaconda3\\lib\\site-packages (from tqdm>=4.64.0->ultralytics) (0.4.6)\n",
      "Requirement already satisfied: zipp>=3.1.0 in c:\\users\\nunaj\\anaconda3\\lib\\site-packages (from importlib-resources>=3.2.0->matplotlib>=3.3.0->ultralytics) (3.11.0)\n",
      "Requirement already satisfied: six>=1.5 in c:\\users\\nunaj\\anaconda3\\lib\\site-packages (from python-dateutil>=2.7->matplotlib>=3.3.0->ultralytics) (1.16.0)\n",
      "Installing collected packages: ultralytics-thop, ultralytics\n",
      "Successfully installed ultralytics-8.3.136 ultralytics-thop-2.0.14\n"
     ]
    }
   ],
   "source": [
    "!pip install ultralytics"
   ]
  },
  {
   "cell_type": "code",
   "execution_count": null,
   "metadata": {
    "colab": {
     "base_uri": "https://localhost:8080/"
    },
    "executionInfo": {
     "elapsed": 6,
     "status": "ok",
     "timestamp": 1742010147671,
     "user": {
      "displayName": "김예향",
      "userId": "01564514346289315086"
     },
     "user_tz": -540
    },
    "id": "DVIcIZNiRJXV",
    "outputId": "b502c41b-71d5-47e4-e42d-354fefea9d0c"
   },
   "outputs": [],
   "source": [
    "%cd yolov11n-finetuning"
   ]
  },
  {
   "cell_type": "markdown",
   "metadata": {
    "id": "glTwubBbloXX"
   },
   "source": [
    "### 모델 학습"
   ]
  },
  {
   "cell_type": "code",
   "execution_count": null,
   "metadata": {
    "colab": {
     "base_uri": "https://localhost:8080/",
     "height": 1000
    },
    "executionInfo": {
     "elapsed": 6083875,
     "status": "error",
     "timestamp": 1741976054465,
     "user": {
      "displayName": "김예향",
      "userId": "01564514346289315086"
     },
     "user_tz": -540
    },
    "id": "qxIQeH6sKeA8",
    "outputId": "beff8800-cc7a-4eca-b9df-a9343329c9ce"
   },
   "outputs": [],
   "source": [
    "from Detectify import Train\n",
    "\n",
    "train = Train()\n",
    "\n",
    "train.start(dataset=\"/content/drive/MyDrive/YOLO/yolov11n-finetuning/data.yaml\")"
   ]
  },
  {
   "cell_type": "markdown",
   "metadata": {
    "id": "6aJNuTmqlp_T"
   },
   "source": [
    "### 모델 인퍼런스"
   ]
  },
  {
   "cell_type": "code",
   "execution_count": null,
   "metadata": {
    "id": "FGEHMsNxnI0E"
   },
   "outputs": [
    {
     "name": "stdout",
     "output_type": "stream",
     "text": [
      "WARNING Ultralytics settings reset to default values. This may be due to a possible problem with your settings or a recent ultralytics package update. \n",
      "View Ultralytics Settings with 'yolo settings' or at 'C:\\Users\\nunaj\\AppData\\Roaming\\Ultralytics\\settings.json'\n",
      "Update Settings with 'yolo settings key=value', i.e. 'yolo settings runs_dir=path/to/dir'. For help see https://docs.ultralytics.com/quickstart/#ultralytics-settings.\n"
     ]
    },
    {
     "ename": "ModuleNotFoundError",
     "evalue": "No module named 'termios'",
     "output_type": "error",
     "traceback": [
      "\u001b[1;31m---------------------------------------------------------------------------\u001b[0m",
      "\u001b[1;31mModuleNotFoundError\u001b[0m                       Traceback (most recent call last)",
      "Cell \u001b[1;32mIn[3], line 3\u001b[0m\n\u001b[0;32m      1\u001b[0m \u001b[38;5;28;01mimport\u001b[39;00m \u001b[38;5;21;01mcv2\u001b[39;00m\n\u001b[0;32m      2\u001b[0m \u001b[38;5;28;01mfrom\u001b[39;00m \u001b[38;5;21;01multralytics\u001b[39;00m \u001b[38;5;28;01mimport\u001b[39;00m YOLO\n\u001b[1;32m----> 3\u001b[0m \u001b[38;5;28;01mfrom\u001b[39;00m \u001b[38;5;21;01mgoogle\u001b[39;00m\u001b[38;5;21;01m.\u001b[39;00m\u001b[38;5;21;01mcolab\u001b[39;00m\u001b[38;5;21;01m.\u001b[39;00m\u001b[38;5;21;01mpatches\u001b[39;00m \u001b[38;5;28;01mimport\u001b[39;00m cv2_imshow\n\u001b[0;32m      4\u001b[0m \u001b[38;5;28;01mimport\u001b[39;00m \u001b[38;5;21;01mos\u001b[39;00m\n",
      "File \u001b[1;32mc:\\Users\\nunaj\\anaconda3\\lib\\site-packages\\google\\colab\\__init__.py:23\u001b[0m\n\u001b[0;32m     21\u001b[0m \u001b[38;5;28;01mfrom\u001b[39;00m \u001b[38;5;21;01mgoogle\u001b[39;00m\u001b[38;5;21;01m.\u001b[39;00m\u001b[38;5;21;01mcolab\u001b[39;00m \u001b[38;5;28;01mimport\u001b[39;00m _installation_commands\n\u001b[0;32m     22\u001b[0m \u001b[38;5;28;01mfrom\u001b[39;00m \u001b[38;5;21;01mgoogle\u001b[39;00m\u001b[38;5;21;01m.\u001b[39;00m\u001b[38;5;21;01mcolab\u001b[39;00m \u001b[38;5;28;01mimport\u001b[39;00m _shell_customizations\n\u001b[1;32m---> 23\u001b[0m \u001b[38;5;28;01mfrom\u001b[39;00m \u001b[38;5;21;01mgoogle\u001b[39;00m\u001b[38;5;21;01m.\u001b[39;00m\u001b[38;5;21;01mcolab\u001b[39;00m \u001b[38;5;28;01mimport\u001b[39;00m _system_commands\n\u001b[0;32m     24\u001b[0m \u001b[38;5;28;01mfrom\u001b[39;00m \u001b[38;5;21;01mgoogle\u001b[39;00m\u001b[38;5;21;01m.\u001b[39;00m\u001b[38;5;21;01mcolab\u001b[39;00m \u001b[38;5;28;01mimport\u001b[39;00m _tensorflow_magics\n\u001b[0;32m     25\u001b[0m \u001b[38;5;28;01mfrom\u001b[39;00m \u001b[38;5;21;01mgoogle\u001b[39;00m\u001b[38;5;21;01m.\u001b[39;00m\u001b[38;5;21;01mcolab\u001b[39;00m \u001b[38;5;28;01mimport\u001b[39;00m auth\n",
      "File \u001b[1;32mc:\\Users\\nunaj\\anaconda3\\lib\\site-packages\\google\\colab\\_system_commands.py:24\u001b[0m\n\u001b[0;32m     22\u001b[0m \u001b[38;5;28;01mimport\u001b[39;00m \u001b[38;5;21;01mlocale\u001b[39;00m\n\u001b[0;32m     23\u001b[0m \u001b[38;5;28;01mimport\u001b[39;00m \u001b[38;5;21;01mos\u001b[39;00m\n\u001b[1;32m---> 24\u001b[0m \u001b[38;5;28;01mimport\u001b[39;00m \u001b[38;5;21;01mpty\u001b[39;00m\n\u001b[0;32m     25\u001b[0m \u001b[38;5;28;01mimport\u001b[39;00m \u001b[38;5;21;01mselect\u001b[39;00m\n\u001b[0;32m     26\u001b[0m \u001b[38;5;28;01mimport\u001b[39;00m \u001b[38;5;21;01msignal\u001b[39;00m\n",
      "File \u001b[1;32mc:\\Users\\nunaj\\anaconda3\\lib\\pty.py:12\u001b[0m\n\u001b[0;32m     10\u001b[0m \u001b[38;5;28;01mimport\u001b[39;00m \u001b[38;5;21;01mos\u001b[39;00m\n\u001b[0;32m     11\u001b[0m \u001b[38;5;28;01mimport\u001b[39;00m \u001b[38;5;21;01msys\u001b[39;00m\n\u001b[1;32m---> 12\u001b[0m \u001b[38;5;28;01mimport\u001b[39;00m \u001b[38;5;21;01mtty\u001b[39;00m\n\u001b[0;32m     14\u001b[0m __all__ \u001b[38;5;241m=\u001b[39m [\u001b[38;5;124m\"\u001b[39m\u001b[38;5;124mopenpty\u001b[39m\u001b[38;5;124m\"\u001b[39m,\u001b[38;5;124m\"\u001b[39m\u001b[38;5;124mfork\u001b[39m\u001b[38;5;124m\"\u001b[39m,\u001b[38;5;124m\"\u001b[39m\u001b[38;5;124mspawn\u001b[39m\u001b[38;5;124m\"\u001b[39m]\n\u001b[0;32m     16\u001b[0m STDIN_FILENO \u001b[38;5;241m=\u001b[39m \u001b[38;5;241m0\u001b[39m\n",
      "File \u001b[1;32mc:\\Users\\nunaj\\anaconda3\\lib\\tty.py:5\u001b[0m\n\u001b[0;32m      1\u001b[0m \u001b[38;5;124;03m\"\"\"Terminal utilities.\"\"\"\u001b[39;00m\n\u001b[0;32m      3\u001b[0m \u001b[38;5;66;03m# Author: Steen Lumholt.\u001b[39;00m\n\u001b[1;32m----> 5\u001b[0m \u001b[38;5;28;01mfrom\u001b[39;00m \u001b[38;5;21;01mtermios\u001b[39;00m \u001b[38;5;28;01mimport\u001b[39;00m \u001b[38;5;241m*\u001b[39m\n\u001b[0;32m      7\u001b[0m __all__ \u001b[38;5;241m=\u001b[39m [\u001b[38;5;124m\"\u001b[39m\u001b[38;5;124msetraw\u001b[39m\u001b[38;5;124m\"\u001b[39m, \u001b[38;5;124m\"\u001b[39m\u001b[38;5;124msetcbreak\u001b[39m\u001b[38;5;124m\"\u001b[39m]\n\u001b[0;32m      9\u001b[0m \u001b[38;5;66;03m# Indexes for termios list.\u001b[39;00m\n",
      "\u001b[1;31mModuleNotFoundError\u001b[0m: No module named 'termios'"
     ]
    }
   ],
   "source": [
    "import cv2\n",
    "from ultralytics import YOLO\n",
    "from google.colab.patches import cv2_imshow\n",
    "import os"
   ]
  },
  {
   "cell_type": "code",
   "execution_count": null,
   "metadata": {
    "colab": {
     "base_uri": "https://localhost:8080/"
    },
    "executionInfo": {
     "elapsed": 1662,
     "status": "ok",
     "timestamp": 1742007916904,
     "user": {
      "displayName": "김예향",
      "userId": "01564514346289315086"
     },
     "user_tz": -540
    },
    "id": "pQ1UMtz5nIvr",
    "outputId": "7e7274ee-7fbe-4364-e82f-6c0fc7df89fe"
   },
   "outputs": [],
   "source": [
    "cap = cv2.VideoCapture(\"/content/drive/MyDrive/YOLO/test_input/test_input1_long_HD.mp4\")\n",
    "\n",
    "width = int(cap.get(3))  # 영상 가로 크기\n",
    "height = int(cap.get(4))  # 영상 세로 크기\n",
    "\n",
    "print(f\"Width: {width}, Height: {height}\")\n",
    "cap.release()"
   ]
  },
  {
   "cell_type": "code",
   "execution_count": null,
   "metadata": {
    "colab": {
     "base_uri": "https://localhost:8080/"
    },
    "collapsed": true,
    "executionInfo": {
     "elapsed": 374133,
     "status": "ok",
     "timestamp": 1742008316134,
     "user": {
      "displayName": "김예향",
      "userId": "01564514346289315086"
     },
     "user_tz": -540
    },
    "id": "T05u7fGro2GJ",
    "outputId": "8a79b3f6-4353-44eb-ed99-1d68935a95fb"
   },
   "outputs": [],
   "source": [
    "# YOLOv11 Nano 모델 로드\n",
    "model = YOLO(\"D:\\OneDrive\\바탕 화면\\colle\\Git\\capstone-2025-24\\AI\\static_detection_model\\output\\train3\\weights\\best.pt\")\n",
    "\n",
    "# 입력 영상 로드\n",
    "cap = cv2.VideoCapture(\"/content/drive/MyDrive/YOLO/test_input/test_input1_long_HD.mp4\")\n",
    "\n",
    "# 해상도 확인\n",
    "width = int(cap.get(3))\n",
    "height = int(cap.get(4))\n",
    "fps = cap.get(5)\n",
    "\n",
    "if width == 0 or height == 0:\n",
    "    print(\"❌ Error: Video file could not be loaded. Check the file path.\")\n",
    "    cap.release()\n",
    "    exit()\n",
    "\n",
    "print(f\"✅ Video Loaded: ({width}x{height}, {fps} FPS)\")\n",
    "\n",
    "# MP4로 저장할 비디오 설정 (코덱: mp4v)\n",
    "fourcc = cv2.VideoWriter_fourcc(*\"mp4v\")\n",
    "output_path = \"runs/detect/predict3/test_output1_long_HD.mp4\"\n",
    "os.makedirs(os.path.dirname(output_path), exist_ok=True)\n",
    "\n",
    "out = cv2.VideoWriter(output_path, fourcc, fps, (width, height))\n",
    "\n",
    "while cap.isOpened():\n",
    "    ret, frame = cap.read()\n",
    "    if not ret:\n",
    "      print(\"Video processing complete!\")\n",
    "      break\n",
    "\n",
    "    # YOLO 객체 탐지 실행\n",
    "    results = model(frame)\n",
    "\n",
    "    # 탐지 결과가 그려진 프레임\n",
    "    annotated_frame = results[0].plot()\n",
    "\n",
    "    # MP4 파일로 저장\n",
    "    out.write(annotated_frame)\n",
    "\n",
    "cap.release()\n",
    "out.release()\n",
    "\n",
    "print(\"MP4 file save! \")"
   ]
  },
  {
   "cell_type": "code",
   "execution_count": null,
   "metadata": {},
   "outputs": [],
   "source": []
  },
  {
   "cell_type": "code",
   "execution_count": 4,
   "metadata": {},
   "outputs": [],
   "source": [
    "import cv2\n",
    "from ultralytics import YOLO\n",
    "import os"
   ]
  },
  {
   "cell_type": "code",
   "execution_count": null,
   "metadata": {
    "colab": {
     "base_uri": "https://localhost:8080/"
    },
    "executionInfo": {
     "elapsed": 2306,
     "status": "ok",
     "timestamp": 1742010158208,
     "user": {
      "displayName": "김예향",
      "userId": "01564514346289315086"
     },
     "user_tz": -540
    },
    "id": "3y5chUhP2Wu_",
    "outputId": "74a1b393-d31d-4ccd-80d4-5da805d7eea6"
   },
   "outputs": [
    {
     "name": "stdout",
     "output_type": "stream",
     "text": [
      "✅ Image Loaded: (420x291)\n",
      "\n",
      "0: 448x640 3 persons, 228.2ms\n",
      "Speed: 11.3ms preprocess, 228.2ms inference, 2.0ms postprocess per image at shape (1, 3, 448, 640)\n",
      "✅ Inference complete! Annotated image saved: test/person2.jpeg\n"
     ]
    }
   ],
   "source": [
    "model_path = \"./output/train3/weights/best.pt\"\n",
    "model = YOLO(model_path)\n",
    "\n",
    "# 2. 입력 이미지 로드\n",
    "img_path = \"../person3.png\"\n",
    "img = cv2.imread(img_path)\n",
    "\n",
    "if img is None:\n",
    "    print(f\"❌ Error: Image file could not be loaded. Check the file path:\\n{img_path}\")\n",
    "    exit()\n",
    "\n",
    "height, width, _ = img.shape\n",
    "print(f\"✅ Image Loaded: ({width}x{height})\")\n",
    "\n",
    "# 3. YOLO 객체 탐지 실행\n",
    "results = model(img)\n",
    "\n",
    "# 4. 탐지 결과가 그려진 이미지 얻기\n",
    "annotated_img = results[0].plot()\n",
    "\n",
    "# 5. 결과 이미지를 파일로 저장\n",
    "save_path = \"test/person3.png\"\n",
    "os.makedirs(os.path.dirname(save_path), exist_ok=True)\n",
    "cv2.imwrite(save_path, annotated_img)\n",
    "\n",
    "print(\"✅ Inference complete! Annotated image saved:\", save_path)\n"
   ]
  },
  {
   "cell_type": "code",
   "execution_count": null,
   "metadata": {},
   "outputs": [],
   "source": []
  }
 ],
 "metadata": {
  "accelerator": "GPU",
  "colab": {
   "gpuType": "T4",
   "provenance": []
  },
  "kernelspec": {
   "display_name": "base",
   "language": "python",
   "name": "python3"
  },
  "language_info": {
   "codemirror_mode": {
    "name": "ipython",
    "version": 3
   },
   "file_extension": ".py",
   "mimetype": "text/x-python",
   "name": "python",
   "nbconvert_exporter": "python",
   "pygments_lexer": "ipython3",
   "version": "3.9.19"
  },
  "orig_nbformat": 4
 },
 "nbformat": 4,
 "nbformat_minor": 0
}
