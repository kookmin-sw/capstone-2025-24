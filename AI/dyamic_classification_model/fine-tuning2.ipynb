{
 "cells": [
  {
   "cell_type": "code",
   "execution_count": null,
   "metadata": {
    "colab": {
     "base_uri": "https://localhost:8080/",
     "height": 35
    },
    "executionInfo": {
     "elapsed": 49,
     "status": "ok",
     "timestamp": 1746530614636,
     "user": {
      "displayName": "YEHYANG KIM",
      "userId": "09662870531590045491"
     },
     "user_tz": -540
    },
    "id": "I2WSa_Q0EMky",
    "outputId": "eea9841a-f52f-4883-bc57-c4d600a656cd"
   },
   "outputs": [],
   "source": [
    "pwd"
   ]
  },
  {
   "cell_type": "code",
   "execution_count": null,
   "metadata": {
    "colab": {
     "base_uri": "https://localhost:8080/"
    },
    "executionInfo": {
     "elapsed": 43,
     "status": "ok",
     "timestamp": 1746530615419,
     "user": {
      "displayName": "YEHYANG KIM",
      "userId": "09662870531590045491"
     },
     "user_tz": -540
    },
    "id": "EOPNFMAwEdEJ",
    "outputId": "bde5949c-2da0-41dd-8fe6-7bfd32a91cb9"
   },
   "outputs": [],
   "source": [
    "%cd drive/MyDrive/X3D"
   ]
  },
  {
   "cell_type": "code",
   "execution_count": null,
   "metadata": {
    "colab": {
     "base_uri": "https://localhost:8080/"
    },
    "executionInfo": {
     "elapsed": 6,
     "status": "ok",
     "timestamp": 1746517728894,
     "user": {
      "displayName": "YEHYANG KIM",
      "userId": "09662870531590045491"
     },
     "user_tz": -540
    },
    "id": "262F66MrJgKg",
    "outputId": "6ee5d38e-c7cc-420c-efc9-20314ebbf0ca"
   },
   "outputs": [],
   "source": [
    "%cd fine-tune"
   ]
  },
  {
   "cell_type": "code",
   "execution_count": null,
   "metadata": {
    "colab": {
     "base_uri": "https://localhost:8080/"
    },
    "executionInfo": {
     "elapsed": 1613,
     "status": "ok",
     "timestamp": 1746517731193,
     "user": {
      "displayName": "YEHYANG KIM",
      "userId": "09662870531590045491"
     },
     "user_tz": -540
    },
    "id": "fjus_lB6JgG-",
    "outputId": "b8a438f3-e3de-432f-e429-fe19ca67f3ef"
   },
   "outputs": [],
   "source": [
    "!pip install --upgrade pip"
   ]
  },
  {
   "cell_type": "code",
   "execution_count": null,
   "metadata": {
    "colab": {
     "base_uri": "https://localhost:8080/"
    },
    "executionInfo": {
     "elapsed": 73665,
     "status": "ok",
     "timestamp": 1746514627234,
     "user": {
      "displayName": "YEHYANG KIM",
      "userId": "09662870531590045491"
     },
     "user_tz": -540
    },
    "id": "Iemp-rPWJgER",
    "outputId": "69c38038-e700-4230-ee3a-9d6e81146a03"
   },
   "outputs": [],
   "source": [
    "!pip install -r requirements.txt"
   ]
  },
  {
   "cell_type": "code",
   "execution_count": null,
   "metadata": {
    "colab": {
     "base_uri": "https://localhost:8080/",
     "height": 1000
    },
    "executionInfo": {
     "elapsed": 140886,
     "status": "ok",
     "timestamp": 1746514773423,
     "user": {
      "displayName": "YEHYANG KIM",
      "userId": "09662870531590045491"
     },
     "user_tz": -540
    },
    "id": "otVwsSyVLZwZ",
    "outputId": "2050a9f0-ba23-482e-e10e-007adfd07790"
   },
   "outputs": [],
   "source": [
    "# 1. 기존 torchvision 제거\n",
    "!pip uninstall -y torchvision\n",
    "\n",
    "# 2. PyTorch와 같은 CUDA 11.8 버전용 torchvision 설치\n",
    "!pip install --upgrade --force-reinstall torchvision --index-url https://download.pytorch.org/whl/cu118"
   ]
  },
  {
   "cell_type": "code",
   "execution_count": null,
   "metadata": {
    "colab": {
     "base_uri": "https://localhost:8080/"
    },
    "id": "zAeRdRUiJrVV",
    "outputId": "c3b1d4c2-ad05-4c3a-aee1-ba50d27e17e5"
   },
   "outputs": [],
   "source": [
    "!python -u src/train.py"
   ]
  }
 ],
 "metadata": {
  "accelerator": "GPU",
  "colab": {
   "authorship_tag": "ABX9TyMIQR5yGjFYerYo3RsDDDnz",
   "gpuType": "A100",
   "machine_shape": "hm",
   "mount_file_id": "1Z4JW5iwyxQulvEfrlo1PX_nBnIt4Uudd",
   "provenance": []
  },
  "kernelspec": {
   "display_name": "Python 3",
   "name": "python3"
  },
  "language_info": {
   "name": "python"
  }
 },
 "nbformat": 4,
 "nbformat_minor": 0
}
