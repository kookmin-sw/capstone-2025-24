{
 "cells": [
  {
   "cell_type": "code",
   "execution_count": null,
   "metadata": {
    "colab": {
     "base_uri": "https://localhost:8080/"
    },
    "executionInfo": {
     "elapsed": 27756,
     "status": "ok",
     "timestamp": 1742534834446,
     "user": {
      "displayName": "김예향",
      "userId": "01564514346289315086"
     },
     "user_tz": -540
    },
    "id": "ihj09xyyb0C2",
    "outputId": "c6d208a7-53b8-48ba-9123-2880a77de7fa"
   },
   "outputs": [],
   "source": [
    "from google.colab import drive\n",
    "drive.mount('/content/drive')"
   ]
  },
  {
   "cell_type": "code",
   "execution_count": null,
   "metadata": {
    "colab": {
     "base_uri": "https://localhost:8080/"
    },
    "executionInfo": {
     "elapsed": 5,
     "status": "ok",
     "timestamp": 1742010143639,
     "user": {
      "displayName": "김예향",
      "userId": "01564514346289315086"
     },
     "user_tz": -540
    },
    "id": "OQnBdpM6a5n-",
    "outputId": "566c3afe-fd63-42ee-f180-ff7df29f0652"
   },
   "outputs": [],
   "source": [
    "%cd drive/MyDrive/YOLO"
   ]
  },
  {
   "cell_type": "code",
   "execution_count": null,
   "metadata": {
    "colab": {
     "base_uri": "https://localhost:8080/"
    },
    "collapsed": true,
    "executionInfo": {
     "elapsed": 2808,
     "status": "ok",
     "timestamp": 1742007681595,
     "user": {
      "displayName": "김예향",
      "userId": "01564514346289315086"
     },
     "user_tz": -540
    },
    "id": "7ZqSsM17a5n_",
    "outputId": "6862be39-cf04-4059-90df-2730a8f6170c"
   },
   "outputs": [],
   "source": [
    "!pip install ultralytics"
   ]
  },
  {
   "cell_type": "code",
   "execution_count": null,
   "metadata": {
    "colab": {
     "base_uri": "https://localhost:8080/"
    },
    "executionInfo": {
     "elapsed": 6,
     "status": "ok",
     "timestamp": 1742010147671,
     "user": {
      "displayName": "김예향",
      "userId": "01564514346289315086"
     },
     "user_tz": -540
    },
    "id": "DVIcIZNiRJXV",
    "outputId": "b502c41b-71d5-47e4-e42d-354fefea9d0c"
   },
   "outputs": [],
   "source": [
    "%cd yolov11n-finetuning"
   ]
  },
  {
   "cell_type": "markdown",
   "metadata": {
    "id": "glTwubBbloXX"
   },
   "source": [
    "### 모델 학습"
   ]
  },
  {
   "cell_type": "code",
   "execution_count": null,
   "metadata": {
    "colab": {
     "base_uri": "https://localhost:8080/",
     "height": 1000
    },
    "executionInfo": {
     "elapsed": 6083875,
     "status": "error",
     "timestamp": 1741976054465,
     "user": {
      "displayName": "김예향",
      "userId": "01564514346289315086"
     },
     "user_tz": -540
    },
    "id": "qxIQeH6sKeA8",
    "outputId": "beff8800-cc7a-4eca-b9df-a9343329c9ce"
   },
   "outputs": [],
   "source": [
    "from Detectify import Train\n",
    "\n",
    "train = Train()\n",
    "\n",
    "train.start(dataset=\"/content/drive/MyDrive/YOLO/yolov11n-finetuning/data.yaml\")"
   ]
  },
  {
   "cell_type": "markdown",
   "metadata": {
    "id": "6aJNuTmqlp_T"
   },
   "source": [
    "### 모델 인퍼런스"
   ]
  },
  {
   "cell_type": "code",
   "execution_count": null,
   "metadata": {
    "id": "FGEHMsNxnI0E"
   },
   "outputs": [],
   "source": [
    "import cv2\n",
    "from ultralytics import YOLO\n",
    "from google.colab.patches import cv2_imshow\n",
    "import os"
   ]
  },
  {
   "cell_type": "code",
   "execution_count": null,
   "metadata": {
    "colab": {
     "base_uri": "https://localhost:8080/"
    },
    "executionInfo": {
     "elapsed": 1662,
     "status": "ok",
     "timestamp": 1742007916904,
     "user": {
      "displayName": "김예향",
      "userId": "01564514346289315086"
     },
     "user_tz": -540
    },
    "id": "pQ1UMtz5nIvr",
    "outputId": "7e7274ee-7fbe-4364-e82f-6c0fc7df89fe"
   },
   "outputs": [],
   "source": [
    "cap = cv2.VideoCapture(\"/content/drive/MyDrive/YOLO/test_input/test_input1_long_HD.mp4\")\n",
    "\n",
    "width = int(cap.get(3))  # 영상 가로 크기\n",
    "height = int(cap.get(4))  # 영상 세로 크기\n",
    "\n",
    "print(f\"Width: {width}, Height: {height}\")\n",
    "cap.release()"
   ]
  },
  {
   "cell_type": "code",
   "execution_count": null,
   "metadata": {
    "colab": {
     "base_uri": "https://localhost:8080/"
    },
    "collapsed": true,
    "executionInfo": {
     "elapsed": 374133,
     "status": "ok",
     "timestamp": 1742008316134,
     "user": {
      "displayName": "김예향",
      "userId": "01564514346289315086"
     },
     "user_tz": -540
    },
    "id": "T05u7fGro2GJ",
    "outputId": "8a79b3f6-4353-44eb-ed99-1d68935a95fb"
   },
   "outputs": [],
   "source": [
    "# YOLOv11 Nano 모델 로드\n",
    "model = YOLO(\"/content/drive/MyDrive/YOLO/yolov11n-finetuning/output/train/weights/best.pt\")\n",
    "\n",
    "# 입력 영상 로드\n",
    "cap = cv2.VideoCapture(\"/content/drive/MyDrive/YOLO/test_input/test_input1_long_HD.mp4\")\n",
    "\n",
    "# 해상도 확인\n",
    "width = int(cap.get(3))\n",
    "height = int(cap.get(4))\n",
    "fps = cap.get(5)\n",
    "\n",
    "if width == 0 or height == 0:\n",
    "    print(\"❌ Error: Video file could not be loaded. Check the file path.\")\n",
    "    cap.release()\n",
    "    exit()\n",
    "\n",
    "print(f\"✅ Video Loaded: ({width}x{height}, {fps} FPS)\")\n",
    "\n",
    "# MP4로 저장할 비디오 설정 (코덱: mp4v)\n",
    "fourcc = cv2.VideoWriter_fourcc(*\"mp4v\")\n",
    "output_path = \"runs/detect/predict3/test_output1_long_HD.mp4\"\n",
    "os.makedirs(os.path.dirname(output_path), exist_ok=True)\n",
    "\n",
    "out = cv2.VideoWriter(output_path, fourcc, fps, (width, height))\n",
    "\n",
    "while cap.isOpened():\n",
    "    ret, frame = cap.read()\n",
    "    if not ret:\n",
    "      print(\"Video processing complete!\")\n",
    "      break\n",
    "\n",
    "    # YOLO 객체 탐지 실행\n",
    "    results = model(frame)\n",
    "\n",
    "    # 탐지 결과가 그려진 프레임\n",
    "    annotated_frame = results[0].plot()\n",
    "\n",
    "    # MP4 파일로 저장\n",
    "    out.write(annotated_frame)\n",
    "\n",
    "cap.release()\n",
    "out.release()\n",
    "\n",
    "print(\"MP4 file save! \")"
   ]
  },
  {
   "cell_type": "code",
   "execution_count": null,
   "metadata": {
    "colab": {
     "base_uri": "https://localhost:8080/"
    },
    "executionInfo": {
     "elapsed": 2306,
     "status": "ok",
     "timestamp": 1742010158208,
     "user": {
      "displayName": "김예향",
      "userId": "01564514346289315086"
     },
     "user_tz": -540
    },
    "id": "3y5chUhP2Wu_",
    "outputId": "74a1b393-d31d-4ccd-80d4-5da805d7eea6"
   },
   "outputs": [],
   "source": [
    "model_path = \"/content/drive/MyDrive/YOLO/yolov11n-finetuning/output/train/weights/best.pt\"\n",
    "model = YOLO(model_path)\n",
    "\n",
    "# 2. 입력 이미지 로드\n",
    "img_path = \"/content/drive/MyDrive/YOLO/test_input/fire1.jpg\"\n",
    "img = cv2.imread(img_path)\n",
    "\n",
    "if img is None:\n",
    "    print(f\"❌ Error: Image file could not be loaded. Check the file path:\\n{img_path}\")\n",
    "    exit()\n",
    "\n",
    "height, width, _ = img.shape\n",
    "print(f\"✅ Image Loaded: ({width}x{height})\")\n",
    "\n",
    "# 3. YOLO 객체 탐지 실행\n",
    "results = model(img)\n",
    "\n",
    "# 4. 탐지 결과가 그려진 이미지 얻기\n",
    "annotated_img = results[0].plot()\n",
    "\n",
    "# 5. 결과 이미지를 파일로 저장\n",
    "save_path = \"runs/detect/predict3/test_output_fire1.jpg\"\n",
    "os.makedirs(os.path.dirname(save_path), exist_ok=True)\n",
    "cv2.imwrite(save_path, annotated_img)\n",
    "\n",
    "print(\"✅ Inference complete! Annotated image saved:\", save_path)\n"
   ]
  }
 ],
 "metadata": {
  "accelerator": "GPU",
  "colab": {
   "gpuType": "T4",
   "provenance": []
  },
  "kernelspec": {
   "display_name": "Python 3",
   "name": "python3"
  },
  "language_info": {
   "codemirror_mode": {
    "name": "ipython",
    "version": 3
   },
   "file_extension": ".py",
   "mimetype": "text/x-python",
   "name": "python",
   "nbconvert_exporter": "python",
   "pygments_lexer": "ipython3",
   "version": "3.10.12"
  },
  "orig_nbformat": 4
 },
 "nbformat": 4,
 "nbformat_minor": 0
}
